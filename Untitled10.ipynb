{
 "cells": [
  {
   "cell_type": "code",
   "execution_count": 1,
   "id": "c06071b9-23ff-4ae0-93a2-fb9379937ee0",
   "metadata": {},
   "outputs": [
    {
     "name": "stdout",
     "output_type": "stream",
     "text": [
      "Requirement already satisfied: seaborn in c:\\users\\jayas\\anaconda3\\envs\\tensorflow_env\\lib\\site-packages (0.13.2)\n",
      "Requirement already satisfied: numpy!=1.24.0,>=1.20 in c:\\users\\jayas\\anaconda3\\envs\\tensorflow_env\\lib\\site-packages (from seaborn) (1.26.4)\n",
      "Requirement already satisfied: pandas>=1.2 in c:\\users\\jayas\\anaconda3\\envs\\tensorflow_env\\lib\\site-packages (from seaborn) (2.2.3)\n",
      "Requirement already satisfied: matplotlib!=3.6.1,>=3.4 in c:\\users\\jayas\\anaconda3\\envs\\tensorflow_env\\lib\\site-packages (from seaborn) (3.9.2)\n",
      "Requirement already satisfied: contourpy>=1.0.1 in c:\\users\\jayas\\anaconda3\\envs\\tensorflow_env\\lib\\site-packages (from matplotlib!=3.6.1,>=3.4->seaborn) (1.3.0)\n",
      "Requirement already satisfied: cycler>=0.10 in c:\\users\\jayas\\anaconda3\\envs\\tensorflow_env\\lib\\site-packages (from matplotlib!=3.6.1,>=3.4->seaborn) (0.12.1)\n",
      "Requirement already satisfied: fonttools>=4.22.0 in c:\\users\\jayas\\anaconda3\\envs\\tensorflow_env\\lib\\site-packages (from matplotlib!=3.6.1,>=3.4->seaborn) (4.54.1)\n",
      "Requirement already satisfied: kiwisolver>=1.3.1 in c:\\users\\jayas\\anaconda3\\envs\\tensorflow_env\\lib\\site-packages (from matplotlib!=3.6.1,>=3.4->seaborn) (1.4.7)\n",
      "Requirement already satisfied: packaging>=20.0 in c:\\users\\jayas\\anaconda3\\envs\\tensorflow_env\\lib\\site-packages (from matplotlib!=3.6.1,>=3.4->seaborn) (24.1)\n",
      "Requirement already satisfied: pillow>=8 in c:\\users\\jayas\\anaconda3\\envs\\tensorflow_env\\lib\\site-packages (from matplotlib!=3.6.1,>=3.4->seaborn) (11.0.0)\n",
      "Requirement already satisfied: pyparsing>=2.3.1 in c:\\users\\jayas\\anaconda3\\envs\\tensorflow_env\\lib\\site-packages (from matplotlib!=3.6.1,>=3.4->seaborn) (3.2.0)\n",
      "Requirement already satisfied: python-dateutil>=2.7 in c:\\users\\jayas\\anaconda3\\envs\\tensorflow_env\\lib\\site-packages (from matplotlib!=3.6.1,>=3.4->seaborn) (2.9.0.post0)\n",
      "Requirement already satisfied: pytz>=2020.1 in c:\\users\\jayas\\anaconda3\\envs\\tensorflow_env\\lib\\site-packages (from pandas>=1.2->seaborn) (2024.1)\n",
      "Requirement already satisfied: tzdata>=2022.7 in c:\\users\\jayas\\anaconda3\\envs\\tensorflow_env\\lib\\site-packages (from pandas>=1.2->seaborn) (2024.2)\n",
      "Requirement already satisfied: six>=1.5 in c:\\users\\jayas\\anaconda3\\envs\\tensorflow_env\\lib\\site-packages (from python-dateutil>=2.7->matplotlib!=3.6.1,>=3.4->seaborn) (1.16.0)\n",
      "Note: you may need to restart the kernel to use updated packages.\n"
     ]
    }
   ],
   "source": [
    "pip install seaborn"
   ]
  },
  {
   "cell_type": "code",
   "execution_count": 2,
   "id": "47771829-1466-4ede-9adb-33d19d8c3bfe",
   "metadata": {},
   "outputs": [
    {
     "name": "stdout",
     "output_type": "stream",
     "text": [
      "Requirement already satisfied: nltk in c:\\users\\jayas\\anaconda3\\envs\\tensorflow_env\\lib\\site-packages (3.9.1)\n",
      "Requirement already satisfied: click in c:\\users\\jayas\\anaconda3\\envs\\tensorflow_env\\lib\\site-packages (from nltk) (8.1.7)\n",
      "Requirement already satisfied: joblib in c:\\users\\jayas\\anaconda3\\envs\\tensorflow_env\\lib\\site-packages (from nltk) (1.4.2)\n",
      "Requirement already satisfied: regex>=2021.8.3 in c:\\users\\jayas\\anaconda3\\envs\\tensorflow_env\\lib\\site-packages (from nltk) (2024.11.6)\n",
      "Requirement already satisfied: tqdm in c:\\users\\jayas\\anaconda3\\envs\\tensorflow_env\\lib\\site-packages (from nltk) (4.67.1)\n",
      "Requirement already satisfied: colorama in c:\\users\\jayas\\anaconda3\\envs\\tensorflow_env\\lib\\site-packages (from click->nltk) (0.4.6)\n",
      "Note: you may need to restart the kernel to use updated packages.\n"
     ]
    }
   ],
   "source": [
    "pip install nltk"
   ]
  },
  {
   "cell_type": "code",
   "execution_count": 3,
   "id": "489b2f22-ac99-407e-986b-ba505eaf5318",
   "metadata": {},
   "outputs": [],
   "source": [
    "import pandas as pd\n",
    "import numpy as np\n",
    "import matplotlib.pyplot as plt\n",
    "import sklearn\n",
    "import re\n",
    "import seaborn as sns\n",
    "import tensorflow as tf\n",
    "import nltk\n",
    "from nltk.corpus import stopwords\n",
    "from nltk.tokenize import word_tokenize\n",
    "from tensorflow.keras.layers import SimpleRNN,LSTM,Dense,Dropout,Embedding,BatchNormalization\n",
    "from tensorflow.keras.models import Sequential\n",
    "from tensorflow.keras.preprocessing.text import Tokenizer\n",
    "from tensorflow.keras.utils import pad_sequences\n",
    "import warnings\n",
    "warnings.filterwarnings('ignore')"
   ]
  },
  {
   "cell_type": "code",
   "execution_count": 4,
   "id": "b02d0cc2-cbd8-4687-90eb-cd1581602e66",
   "metadata": {},
   "outputs": [],
   "source": [
    "df = pd.read_csv(r\"C:\\Users\\jayas\\Downloads\\Amazon-Product-Review-Sentiment-Analysis-using-RNN-Dataset.csv\")"
   ]
  },
  {
   "cell_type": "code",
   "execution_count": 5,
   "id": "5c1d9f73-9dd6-4460-89b0-22a0336dbae4",
   "metadata": {},
   "outputs": [
    {
     "name": "stdout",
     "output_type": "stream",
     "text": [
      "<class 'pandas.core.frame.DataFrame'>\n",
      "RangeIndex: 25000 entries, 0 to 24999\n",
      "Data columns (total 2 columns):\n",
      " #   Column     Non-Null Count  Dtype \n",
      "---  ------     --------------  ----- \n",
      " 0   Review     24999 non-null  object\n",
      " 1   Sentiment  25000 non-null  int64 \n",
      "dtypes: int64(1), object(1)\n",
      "memory usage: 390.8+ KB\n"
     ]
    }
   ],
   "source": [
    "df.info()"
   ]
  },
  {
   "cell_type": "code",
   "execution_count": 6,
   "id": "4edbad5e-ce6f-419b-ab0d-bc9a172e5f10",
   "metadata": {},
   "outputs": [
    {
     "data": {
      "text/plain": [
       "(25000, 2)"
      ]
     },
     "execution_count": 6,
     "metadata": {},
     "output_type": "execute_result"
    }
   ],
   "source": [
    "df.shape"
   ]
  },
  {
   "cell_type": "code",
   "execution_count": 7,
   "id": "65f91817-8762-408e-a867-3105de93025d",
   "metadata": {},
   "outputs": [
    {
     "data": {
      "text/plain": [
       "Review       1\n",
       "Sentiment    0\n",
       "dtype: int64"
      ]
     },
     "execution_count": 7,
     "metadata": {},
     "output_type": "execute_result"
    }
   ],
   "source": [
    "df.isna().sum()"
   ]
  },
  {
   "cell_type": "code",
   "execution_count": 8,
   "id": "ac065307-a0c0-435c-95a9-d14222e12e9a",
   "metadata": {},
   "outputs": [],
   "source": [
    "df = df.dropna()"
   ]
  },
  {
   "cell_type": "code",
   "execution_count": 9,
   "id": "d2db1167-3bbc-4e91-a8b4-e2b1eb992cdc",
   "metadata": {},
   "outputs": [
    {
     "data": {
      "text/plain": [
       "Review       0\n",
       "Sentiment    0\n",
       "dtype: int64"
      ]
     },
     "execution_count": 9,
     "metadata": {},
     "output_type": "execute_result"
    }
   ],
   "source": [
    "df.isna().sum()"
   ]
  },
  {
   "cell_type": "code",
   "execution_count": 10,
   "id": "994bdc75-8660-4081-9366-37cb8b449d49",
   "metadata": {},
   "outputs": [
    {
     "data": {
      "text/html": [
       "<div>\n",
       "<style scoped>\n",
       "    .dataframe tbody tr th:only-of-type {\n",
       "        vertical-align: middle;\n",
       "    }\n",
       "\n",
       "    .dataframe tbody tr th {\n",
       "        vertical-align: top;\n",
       "    }\n",
       "\n",
       "    .dataframe thead th {\n",
       "        text-align: right;\n",
       "    }\n",
       "</style>\n",
       "<table border=\"1\" class=\"dataframe\">\n",
       "  <thead>\n",
       "    <tr style=\"text-align: right;\">\n",
       "      <th></th>\n",
       "      <th>Review</th>\n",
       "      <th>Sentiment</th>\n",
       "    </tr>\n",
       "  </thead>\n",
       "  <tbody>\n",
       "    <tr>\n",
       "      <th>0</th>\n",
       "      <td>Fast shipping but this product is very cheaply...</td>\n",
       "      <td>1</td>\n",
       "    </tr>\n",
       "    <tr>\n",
       "      <th>1</th>\n",
       "      <td>This case takes so long to ship and it's not e...</td>\n",
       "      <td>1</td>\n",
       "    </tr>\n",
       "    <tr>\n",
       "      <th>2</th>\n",
       "      <td>Good for not droids. Not good for iPhones. You...</td>\n",
       "      <td>1</td>\n",
       "    </tr>\n",
       "    <tr>\n",
       "      <th>3</th>\n",
       "      <td>The cable was not compatible between my macboo...</td>\n",
       "      <td>1</td>\n",
       "    </tr>\n",
       "    <tr>\n",
       "      <th>4</th>\n",
       "      <td>The case is nice but did not have a glow light...</td>\n",
       "      <td>1</td>\n",
       "    </tr>\n",
       "  </tbody>\n",
       "</table>\n",
       "</div>"
      ],
      "text/plain": [
       "                                              Review  Sentiment\n",
       "0  Fast shipping but this product is very cheaply...          1\n",
       "1  This case takes so long to ship and it's not e...          1\n",
       "2  Good for not droids. Not good for iPhones. You...          1\n",
       "3  The cable was not compatible between my macboo...          1\n",
       "4  The case is nice but did not have a glow light...          1"
      ]
     },
     "execution_count": 10,
     "metadata": {},
     "output_type": "execute_result"
    }
   ],
   "source": [
    "df.head()"
   ]
  },
  {
   "cell_type": "code",
   "execution_count": 11,
   "id": "6548ac1b-0693-4967-a4dd-531de17fb097",
   "metadata": {},
   "outputs": [
    {
     "data": {
      "text/plain": [
       "Sentiment\n",
       "1    5000\n",
       "2    5000\n",
       "3    5000\n",
       "4    5000\n",
       "5    4999\n",
       "Name: count, dtype: int64"
      ]
     },
     "execution_count": 11,
     "metadata": {},
     "output_type": "execute_result"
    }
   ],
   "source": [
    "df['Sentiment'].value_counts()"
   ]
  },
  {
   "cell_type": "code",
   "execution_count": 12,
   "id": "e5cb1e9e-3628-404c-abbe-8bdf5b87b883",
   "metadata": {},
   "outputs": [],
   "source": [
    "stop_words = set(stopwords.words('english'))"
   ]
  },
  {
   "cell_type": "code",
   "execution_count": 13,
   "id": "60367bfe-5699-494c-b60a-78b69cc3c40a",
   "metadata": {},
   "outputs": [
    {
     "name": "stdout",
     "output_type": "stream",
     "text": [
      "179\n"
     ]
    }
   ],
   "source": [
    "print(len(stop_words))"
   ]
  },
  {
   "cell_type": "code",
   "execution_count": 14,
   "id": "3b34c62d-395f-46ea-9161-077c1b1ac8c2",
   "metadata": {},
   "outputs": [],
   "source": [
    "def clean_text(text):\n",
    "    reg = re.compile('<>*.?')\n",
    "    text = re.sub(reg,\"\",text)\n",
    "    pattern = re.compile('[^a-zA-Z0-9\\s]')\n",
    "    text = re.sub(pattern,'',text)\n",
    "    pattern = re.compile('/d+')\n",
    "    text = re.sub(pattern,'',text)\n",
    "    text = text.lower()\n",
    "    text = word_tokenize(text)\n",
    "    text = [word for word in text if not word in stop_words]\n",
    "    return text\n",
    "df['Review'] = df['Review'].apply(clean_text)"
   ]
  },
  {
   "cell_type": "code",
   "execution_count": 15,
   "id": "d9896b8b-0267-4739-887a-8a1ec13406b0",
   "metadata": {},
   "outputs": [
    {
     "data": {
      "text/html": [
       "<div>\n",
       "<style scoped>\n",
       "    .dataframe tbody tr th:only-of-type {\n",
       "        vertical-align: middle;\n",
       "    }\n",
       "\n",
       "    .dataframe tbody tr th {\n",
       "        vertical-align: top;\n",
       "    }\n",
       "\n",
       "    .dataframe thead th {\n",
       "        text-align: right;\n",
       "    }\n",
       "</style>\n",
       "<table border=\"1\" class=\"dataframe\">\n",
       "  <thead>\n",
       "    <tr style=\"text-align: right;\">\n",
       "      <th></th>\n",
       "      <th>Review</th>\n",
       "      <th>Sentiment</th>\n",
       "    </tr>\n",
       "  </thead>\n",
       "  <tbody>\n",
       "    <tr>\n",
       "      <th>0</th>\n",
       "      <td>[fast, shipping, product, cheaply, made, broug...</td>\n",
       "      <td>1</td>\n",
       "    </tr>\n",
       "    <tr>\n",
       "      <th>1</th>\n",
       "      <td>[case, takes, long, ship, even, worth, dont, buy]</td>\n",
       "      <td>1</td>\n",
       "    </tr>\n",
       "    <tr>\n",
       "      <th>2</th>\n",
       "      <td>[good, droids, good, iphones, use, features, w...</td>\n",
       "      <td>1</td>\n",
       "    </tr>\n",
       "    <tr>\n",
       "      <th>3</th>\n",
       "      <td>[cable, compatible, macbook, iphone, also, con...</td>\n",
       "      <td>1</td>\n",
       "    </tr>\n",
       "    <tr>\n",
       "      <th>4</th>\n",
       "      <td>[case, nice, glow, light, im, disappointed, pr...</td>\n",
       "      <td>1</td>\n",
       "    </tr>\n",
       "  </tbody>\n",
       "</table>\n",
       "</div>"
      ],
      "text/plain": [
       "                                              Review  Sentiment\n",
       "0  [fast, shipping, product, cheaply, made, broug...          1\n",
       "1  [case, takes, long, ship, even, worth, dont, buy]          1\n",
       "2  [good, droids, good, iphones, use, features, w...          1\n",
       "3  [cable, compatible, macbook, iphone, also, con...          1\n",
       "4  [case, nice, glow, light, im, disappointed, pr...          1"
      ]
     },
     "execution_count": 15,
     "metadata": {},
     "output_type": "execute_result"
    }
   ],
   "source": [
    "df.head()"
   ]
  },
  {
   "cell_type": "code",
   "execution_count": 16,
   "id": "d0edaeb8-1bb8-4854-86ed-79366d4ab9a6",
   "metadata": {},
   "outputs": [],
   "source": [
    "tokens = Tokenizer()\n",
    "reviews_to_list = df['Review'].tolist()\n",
    "tokens.fit_on_texts(reviews_to_list)"
   ]
  },
  {
   "cell_type": "code",
   "execution_count": 17,
   "id": "b7f13a6c-8c29-4153-9ab4-e6265fd82c69",
   "metadata": {},
   "outputs": [],
   "source": [
    "text_seq = tokens.texts_to_sequences(reviews_to_list)"
   ]
  },
  {
   "cell_type": "code",
   "execution_count": 18,
   "id": "232c5e76-e873-43d6-aeff-8851cf0f3e4d",
   "metadata": {},
   "outputs": [
    {
     "data": {
      "text/plain": [
       "[[272,\n",
       "  207,\n",
       "  6,\n",
       "  745,\n",
       "  67,\n",
       "  1533,\n",
       "  17117,\n",
       "  12,\n",
       "  4,\n",
       "  962,\n",
       "  646,\n",
       "  342,\n",
       "  3011,\n",
       "  267,\n",
       "  5,\n",
       "  5468,\n",
       "  1278,\n",
       "  1165,\n",
       "  17118]]"
      ]
     },
     "execution_count": 18,
     "metadata": {},
     "output_type": "execute_result"
    }
   ],
   "source": [
    "text_seq[:1]"
   ]
  },
  {
   "cell_type": "code",
   "execution_count": 19,
   "id": "b44fbb1c-9c7b-4227-84b3-3e3bfd33e182",
   "metadata": {},
   "outputs": [],
   "source": [
    "padded_seq = pad_sequences(text_seq,maxlen=500)"
   ]
  },
  {
   "cell_type": "code",
   "execution_count": 20,
   "id": "ff878e84-4d18-4c04-bbc0-2d09730f8c9c",
   "metadata": {},
   "outputs": [
    {
     "data": {
      "text/plain": [
       "array([[    0,     0,     0,     0,     0,     0,     0,     0,     0,\n",
       "            0,     0,     0,     0,     0,     0,     0,     0,     0,\n",
       "            0,     0,     0,     0,     0,     0,     0,     0,     0,\n",
       "            0,     0,     0,     0,     0,     0,     0,     0,     0,\n",
       "            0,     0,     0,     0,     0,     0,     0,     0,     0,\n",
       "            0,     0,     0,     0,     0,     0,     0,     0,     0,\n",
       "            0,     0,     0,     0,     0,     0,     0,     0,     0,\n",
       "            0,     0,     0,     0,     0,     0,     0,     0,     0,\n",
       "            0,     0,     0,     0,     0,     0,     0,     0,     0,\n",
       "            0,     0,     0,     0,     0,     0,     0,     0,     0,\n",
       "            0,     0,     0,     0,     0,     0,     0,     0,     0,\n",
       "            0,     0,     0,     0,     0,     0,     0,     0,     0,\n",
       "            0,     0,     0,     0,     0,     0,     0,     0,     0,\n",
       "            0,     0,     0,     0,     0,     0,     0,     0,     0,\n",
       "            0,     0,     0,     0,     0,     0,     0,     0,     0,\n",
       "            0,     0,     0,     0,     0,     0,     0,     0,     0,\n",
       "            0,     0,     0,     0,     0,     0,     0,     0,     0,\n",
       "            0,     0,     0,     0,     0,     0,     0,     0,     0,\n",
       "            0,     0,     0,     0,     0,     0,     0,     0,     0,\n",
       "            0,     0,     0,     0,     0,     0,     0,     0,     0,\n",
       "            0,     0,     0,     0,     0,     0,     0,     0,     0,\n",
       "            0,     0,     0,     0,     0,     0,     0,     0,     0,\n",
       "            0,     0,     0,     0,     0,     0,     0,     0,     0,\n",
       "            0,     0,     0,     0,     0,     0,     0,     0,     0,\n",
       "            0,     0,     0,     0,     0,     0,     0,     0,     0,\n",
       "            0,     0,     0,     0,     0,     0,     0,     0,     0,\n",
       "            0,     0,     0,     0,     0,     0,     0,     0,     0,\n",
       "            0,     0,     0,     0,     0,     0,     0,     0,     0,\n",
       "            0,     0,     0,     0,     0,     0,     0,     0,     0,\n",
       "            0,     0,     0,     0,     0,     0,     0,     0,     0,\n",
       "            0,     0,     0,     0,     0,     0,     0,     0,     0,\n",
       "            0,     0,     0,     0,     0,     0,     0,     0,     0,\n",
       "            0,     0,     0,     0,     0,     0,     0,     0,     0,\n",
       "            0,     0,     0,     0,     0,     0,     0,     0,     0,\n",
       "            0,     0,     0,     0,     0,     0,     0,     0,     0,\n",
       "            0,     0,     0,     0,     0,     0,     0,     0,     0,\n",
       "            0,     0,     0,     0,     0,     0,     0,     0,     0,\n",
       "            0,     0,     0,     0,     0,     0,     0,     0,     0,\n",
       "            0,     0,     0,     0,     0,     0,     0,     0,     0,\n",
       "            0,     0,     0,     0,     0,     0,     0,     0,     0,\n",
       "            0,     0,     0,     0,     0,     0,     0,     0,     0,\n",
       "            0,     0,     0,     0,     0,     0,     0,     0,     0,\n",
       "            0,     0,     0,     0,     0,     0,     0,     0,     0,\n",
       "            0,     0,     0,     0,     0,     0,     0,     0,     0,\n",
       "            0,     0,     0,     0,     0,     0,     0,     0,     0,\n",
       "            0,     0,     0,     0,     0,     0,     0,     0,     0,\n",
       "            0,     0,     0,     0,     0,     0,     0,     0,     0,\n",
       "            0,     0,     0,     0,     0,     0,     0,     0,     0,\n",
       "            0,     0,     0,     0,     0,     0,     0,     0,     0,\n",
       "            0,     0,     0,     0,     0,     0,     0,     0,     0,\n",
       "            0,     0,     0,     0,     0,     0,     0,     0,     0,\n",
       "            0,     0,     0,     0,     0,     0,     0,     0,     0,\n",
       "            0,     0,     0,     0,     0,     0,     0,     0,     0,\n",
       "            0,     0,     0,     0,   272,   207,     6,   745,    67,\n",
       "         1533, 17117,    12,     4,   962,   646,   342,  3011,   267,\n",
       "            5,  5468,  1278,  1165, 17118]])"
      ]
     },
     "execution_count": 20,
     "metadata": {},
     "output_type": "execute_result"
    }
   ],
   "source": [
    "padded_seq[:1]"
   ]
  },
  {
   "cell_type": "code",
   "execution_count": 21,
   "id": "2e11de8d-931c-4b78-8b26-5ab8b23ad24a",
   "metadata": {},
   "outputs": [],
   "source": [
    "text_seq = np.array(padded_seq)"
   ]
  },
  {
   "cell_type": "code",
   "execution_count": 22,
   "id": "5b974436-c3cf-4df9-b98b-134f0ea29994",
   "metadata": {},
   "outputs": [],
   "source": [
    "df = pd.get_dummies(df, columns=['Sentiment'])"
   ]
  },
  {
   "cell_type": "code",
   "execution_count": 23,
   "id": "383fc148-7609-464f-b9c4-eeb627485014",
   "metadata": {},
   "outputs": [
    {
     "data": {
      "text/html": [
       "<div>\n",
       "<style scoped>\n",
       "    .dataframe tbody tr th:only-of-type {\n",
       "        vertical-align: middle;\n",
       "    }\n",
       "\n",
       "    .dataframe tbody tr th {\n",
       "        vertical-align: top;\n",
       "    }\n",
       "\n",
       "    .dataframe thead th {\n",
       "        text-align: right;\n",
       "    }\n",
       "</style>\n",
       "<table border=\"1\" class=\"dataframe\">\n",
       "  <thead>\n",
       "    <tr style=\"text-align: right;\">\n",
       "      <th></th>\n",
       "      <th>Review</th>\n",
       "      <th>Sentiment_1</th>\n",
       "      <th>Sentiment_2</th>\n",
       "      <th>Sentiment_3</th>\n",
       "      <th>Sentiment_4</th>\n",
       "      <th>Sentiment_5</th>\n",
       "    </tr>\n",
       "  </thead>\n",
       "  <tbody>\n",
       "    <tr>\n",
       "      <th>0</th>\n",
       "      <td>[fast, shipping, product, cheaply, made, broug...</td>\n",
       "      <td>True</td>\n",
       "      <td>False</td>\n",
       "      <td>False</td>\n",
       "      <td>False</td>\n",
       "      <td>False</td>\n",
       "    </tr>\n",
       "    <tr>\n",
       "      <th>1</th>\n",
       "      <td>[case, takes, long, ship, even, worth, dont, buy]</td>\n",
       "      <td>True</td>\n",
       "      <td>False</td>\n",
       "      <td>False</td>\n",
       "      <td>False</td>\n",
       "      <td>False</td>\n",
       "    </tr>\n",
       "    <tr>\n",
       "      <th>2</th>\n",
       "      <td>[good, droids, good, iphones, use, features, w...</td>\n",
       "      <td>True</td>\n",
       "      <td>False</td>\n",
       "      <td>False</td>\n",
       "      <td>False</td>\n",
       "      <td>False</td>\n",
       "    </tr>\n",
       "    <tr>\n",
       "      <th>3</th>\n",
       "      <td>[cable, compatible, macbook, iphone, also, con...</td>\n",
       "      <td>True</td>\n",
       "      <td>False</td>\n",
       "      <td>False</td>\n",
       "      <td>False</td>\n",
       "      <td>False</td>\n",
       "    </tr>\n",
       "    <tr>\n",
       "      <th>4</th>\n",
       "      <td>[case, nice, glow, light, im, disappointed, pr...</td>\n",
       "      <td>True</td>\n",
       "      <td>False</td>\n",
       "      <td>False</td>\n",
       "      <td>False</td>\n",
       "      <td>False</td>\n",
       "    </tr>\n",
       "  </tbody>\n",
       "</table>\n",
       "</div>"
      ],
      "text/plain": [
       "                                              Review  Sentiment_1  \\\n",
       "0  [fast, shipping, product, cheaply, made, broug...         True   \n",
       "1  [case, takes, long, ship, even, worth, dont, buy]         True   \n",
       "2  [good, droids, good, iphones, use, features, w...         True   \n",
       "3  [cable, compatible, macbook, iphone, also, con...         True   \n",
       "4  [case, nice, glow, light, im, disappointed, pr...         True   \n",
       "\n",
       "   Sentiment_2  Sentiment_3  Sentiment_4  Sentiment_5  \n",
       "0        False        False        False        False  \n",
       "1        False        False        False        False  \n",
       "2        False        False        False        False  \n",
       "3        False        False        False        False  \n",
       "4        False        False        False        False  "
      ]
     },
     "execution_count": 23,
     "metadata": {},
     "output_type": "execute_result"
    }
   ],
   "source": [
    "df.head()"
   ]
  },
  {
   "cell_type": "code",
   "execution_count": 24,
   "id": "ff0edb0f-9abd-4882-88a1-a01bd6ee9ed4",
   "metadata": {},
   "outputs": [],
   "source": [
    "x = pad_sequences(text_seq,maxlen=500)\n",
    "y = df[['Sentiment_1','Sentiment_2','Sentiment_3','Sentiment_4','Sentiment_5']]"
   ]
  },
  {
   "cell_type": "code",
   "execution_count": 25,
   "id": "3c8fd17e-fd4b-43bf-beea-8581c1f87d24",
   "metadata": {},
   "outputs": [
    {
     "data": {
      "text/plain": [
       "(24999, 500)"
      ]
     },
     "execution_count": 25,
     "metadata": {},
     "output_type": "execute_result"
    }
   ],
   "source": [
    "x.shape"
   ]
  },
  {
   "cell_type": "code",
   "execution_count": 26,
   "id": "51cabc69-9091-4b58-8d03-a596bf6f739b",
   "metadata": {},
   "outputs": [
    {
     "data": {
      "text/plain": [
       "(24999, 5)"
      ]
     },
     "execution_count": 26,
     "metadata": {},
     "output_type": "execute_result"
    }
   ],
   "source": [
    "y.shape"
   ]
  },
  {
   "cell_type": "code",
   "execution_count": 27,
   "id": "0a920de1-817a-4db5-84d7-80875b9b4182",
   "metadata": {},
   "outputs": [
    {
     "data": {
      "text/plain": [
       "array([[    0,     0,     0, ...,  1278,  1165, 17118],\n",
       "       [    0,     0,     0, ...,   126,    16,    30],\n",
       "       [    0,     0,     0, ...,   168,  3698,    55],\n",
       "       ...,\n",
       "       [    0,     0,     0, ...,   281,     7,   266],\n",
       "       [    0,     0,     0, ...,  4038,    69,  2261],\n",
       "       [    0,     0,     0, ...,  2642, 10955,    69]])"
      ]
     },
     "execution_count": 27,
     "metadata": {},
     "output_type": "execute_result"
    }
   ],
   "source": [
    "x"
   ]
  },
  {
   "cell_type": "code",
   "execution_count": 28,
   "id": "a2dbc321-6d73-4538-af71-5872a64aa64b",
   "metadata": {},
   "outputs": [
    {
     "data": {
      "text/html": [
       "<div>\n",
       "<style scoped>\n",
       "    .dataframe tbody tr th:only-of-type {\n",
       "        vertical-align: middle;\n",
       "    }\n",
       "\n",
       "    .dataframe tbody tr th {\n",
       "        vertical-align: top;\n",
       "    }\n",
       "\n",
       "    .dataframe thead th {\n",
       "        text-align: right;\n",
       "    }\n",
       "</style>\n",
       "<table border=\"1\" class=\"dataframe\">\n",
       "  <thead>\n",
       "    <tr style=\"text-align: right;\">\n",
       "      <th></th>\n",
       "      <th>Sentiment_1</th>\n",
       "      <th>Sentiment_2</th>\n",
       "      <th>Sentiment_3</th>\n",
       "      <th>Sentiment_4</th>\n",
       "      <th>Sentiment_5</th>\n",
       "    </tr>\n",
       "  </thead>\n",
       "  <tbody>\n",
       "    <tr>\n",
       "      <th>0</th>\n",
       "      <td>True</td>\n",
       "      <td>False</td>\n",
       "      <td>False</td>\n",
       "      <td>False</td>\n",
       "      <td>False</td>\n",
       "    </tr>\n",
       "    <tr>\n",
       "      <th>1</th>\n",
       "      <td>True</td>\n",
       "      <td>False</td>\n",
       "      <td>False</td>\n",
       "      <td>False</td>\n",
       "      <td>False</td>\n",
       "    </tr>\n",
       "    <tr>\n",
       "      <th>2</th>\n",
       "      <td>True</td>\n",
       "      <td>False</td>\n",
       "      <td>False</td>\n",
       "      <td>False</td>\n",
       "      <td>False</td>\n",
       "    </tr>\n",
       "    <tr>\n",
       "      <th>3</th>\n",
       "      <td>True</td>\n",
       "      <td>False</td>\n",
       "      <td>False</td>\n",
       "      <td>False</td>\n",
       "      <td>False</td>\n",
       "    </tr>\n",
       "    <tr>\n",
       "      <th>4</th>\n",
       "      <td>True</td>\n",
       "      <td>False</td>\n",
       "      <td>False</td>\n",
       "      <td>False</td>\n",
       "      <td>False</td>\n",
       "    </tr>\n",
       "    <tr>\n",
       "      <th>...</th>\n",
       "      <td>...</td>\n",
       "      <td>...</td>\n",
       "      <td>...</td>\n",
       "      <td>...</td>\n",
       "      <td>...</td>\n",
       "    </tr>\n",
       "    <tr>\n",
       "      <th>24995</th>\n",
       "      <td>False</td>\n",
       "      <td>False</td>\n",
       "      <td>False</td>\n",
       "      <td>False</td>\n",
       "      <td>True</td>\n",
       "    </tr>\n",
       "    <tr>\n",
       "      <th>24996</th>\n",
       "      <td>False</td>\n",
       "      <td>False</td>\n",
       "      <td>False</td>\n",
       "      <td>False</td>\n",
       "      <td>True</td>\n",
       "    </tr>\n",
       "    <tr>\n",
       "      <th>24997</th>\n",
       "      <td>False</td>\n",
       "      <td>False</td>\n",
       "      <td>False</td>\n",
       "      <td>False</td>\n",
       "      <td>True</td>\n",
       "    </tr>\n",
       "    <tr>\n",
       "      <th>24998</th>\n",
       "      <td>False</td>\n",
       "      <td>False</td>\n",
       "      <td>False</td>\n",
       "      <td>False</td>\n",
       "      <td>True</td>\n",
       "    </tr>\n",
       "    <tr>\n",
       "      <th>24999</th>\n",
       "      <td>False</td>\n",
       "      <td>False</td>\n",
       "      <td>False</td>\n",
       "      <td>False</td>\n",
       "      <td>True</td>\n",
       "    </tr>\n",
       "  </tbody>\n",
       "</table>\n",
       "<p>24999 rows × 5 columns</p>\n",
       "</div>"
      ],
      "text/plain": [
       "       Sentiment_1  Sentiment_2  Sentiment_3  Sentiment_4  Sentiment_5\n",
       "0             True        False        False        False        False\n",
       "1             True        False        False        False        False\n",
       "2             True        False        False        False        False\n",
       "3             True        False        False        False        False\n",
       "4             True        False        False        False        False\n",
       "...            ...          ...          ...          ...          ...\n",
       "24995        False        False        False        False         True\n",
       "24996        False        False        False        False         True\n",
       "24997        False        False        False        False         True\n",
       "24998        False        False        False        False         True\n",
       "24999        False        False        False        False         True\n",
       "\n",
       "[24999 rows x 5 columns]"
      ]
     },
     "execution_count": 28,
     "metadata": {},
     "output_type": "execute_result"
    }
   ],
   "source": [
    "y"
   ]
  },
  {
   "cell_type": "code",
   "execution_count": 29,
   "id": "296b586d-26eb-472a-9c19-b05340e55c36",
   "metadata": {},
   "outputs": [],
   "source": [
    "from sklearn.model_selection import train_test_split\n",
    "x_train,x_test,y_train,y_test = train_test_split(x,y,random_state=0,test_size=0.20)"
   ]
  },
  {
   "cell_type": "code",
   "execution_count": 30,
   "id": "8eba898d-f043-4730-be7c-c0a862d300c8",
   "metadata": {},
   "outputs": [
    {
     "name": "stdout",
     "output_type": "stream",
     "text": [
      "(19999, 500) (19999, 5)\n",
      "(5000, 500) (5000, 5)\n"
     ]
    }
   ],
   "source": [
    "print(x_train.shape,y_train.shape)\n",
    "print(x_test.shape,y_test.shape)"
   ]
  },
  {
   "cell_type": "code",
   "execution_count": 31,
   "id": "a222b7a3-a364-44b5-8d7e-f80ee425eefe",
   "metadata": {},
   "outputs": [
    {
     "name": "stdout",
     "output_type": "stream",
     "text": [
      "Model: \"Simple_Rnn\"\n",
      "_________________________________________________________________\n",
      " Layer (type)                Output Shape              Param #   \n",
      "=================================================================\n",
      " embedding (Embedding)       (None, 500, 500)          19207500  \n",
      "                                                                 \n",
      " simple_rnn (SimpleRNN)      (None, 500, 128)          80512     \n",
      "                                                                 \n",
      " simple_rnn_1 (SimpleRNN)    (None, 500, 64)           12352     \n",
      "                                                                 \n",
      " simple_rnn_2 (SimpleRNN)    (None, 500, 32)           3104      \n",
      "                                                                 \n",
      " simple_rnn_3 (SimpleRNN)    (None, 16)                784       \n",
      "                                                                 \n",
      " dense (Dense)               (None, 5)                 85        \n",
      "                                                                 \n",
      "=================================================================\n",
      "Total params: 19,304,337\n",
      "Trainable params: 19,304,337\n",
      "Non-trainable params: 0\n",
      "_________________________________________________________________\n"
     ]
    }
   ],
   "source": [
    "simaple_rnn = Sequential(name = \"Simple_Rnn\")\n",
    "simaple_rnn.add(Embedding(len(tokens.word_index) + 1, 500, input_length=500))\n",
    "simaple_rnn.add(SimpleRNN(128,activation='relu',return_sequences=True))\n",
    "simaple_rnn.add(SimpleRNN(64,activation = 'relu',return_sequences=True))\n",
    "simaple_rnn.add(SimpleRNN(32,activation = 'relu',return_sequences = True))\n",
    "simaple_rnn.add(SimpleRNN(16,activation='relu',return_sequences=False))\n",
    "simaple_rnn.add(Dense(5,activation = 'softmax'))\n",
    "simaple_rnn.summary()"
   ]
  },
  {
   "cell_type": "code",
   "execution_count": 32,
   "id": "097dab99-49d0-4af2-b679-333d65f4c8c5",
   "metadata": {},
   "outputs": [
    {
     "name": "stdout",
     "output_type": "stream",
     "text": [
      "Epoch 1/2\n",
      "313/313 [==============================] - 549s 2s/step - loss: 1.4370 - accuracy: 0.3369 - val_loss: 1.2785 - val_accuracy: 0.4364\n",
      "Epoch 2/2\n",
      "313/313 [==============================] - 605s 2s/step - loss: 1.1362 - accuracy: 0.5077 - val_loss: 1.2577 - val_accuracy: 0.4298\n",
      "157/157 [==============================] - 69s 443ms/step - loss: 1.2577 - accuracy: 0.4298\n",
      "[1.257662057876587, 0.42980000376701355]\n"
     ]
    }
   ],
   "source": [
    "simaple_rnn.compile(loss = 'categorical_crossentropy',optimizer='adam',metrics=['accuracy'])\n",
    "history = simaple_rnn.fit(x_train,y_train,batch_size=64,epochs=2,verbose=1,validation_data=(x_test,y_test))\n",
    "print(simaple_rnn.evaluate(x_test,y_test,verbose=1))"
   ]
  },
  {
   "cell_type": "code",
   "execution_count": 33,
   "id": "b379513f-3efe-4d36-9188-2a51fe05c27a",
   "metadata": {},
   "outputs": [
    {
     "name": "stdout",
     "output_type": "stream",
     "text": [
      "Model: \"LSTM\"\n",
      "_________________________________________________________________\n",
      " Layer (type)                Output Shape              Param #   \n",
      "=================================================================\n",
      " embedding_1 (Embedding)     (None, 500, 500)          19207500  \n",
      "                                                                 \n",
      " lstm (LSTM)                 (None, 500, 150)          390600    \n",
      "                                                                 \n",
      " batch_normalization (BatchN  (None, 500, 150)         600       \n",
      " ormalization)                                                   \n",
      "                                                                 \n",
      " dropout (Dropout)           (None, 500, 150)          0         \n",
      "                                                                 \n",
      " lstm_1 (LSTM)               (None, 50)                40200     \n",
      "                                                                 \n",
      " batch_normalization_1 (Batc  (None, 50)               200       \n",
      " hNormalization)                                                 \n",
      "                                                                 \n",
      " dropout_1 (Dropout)         (None, 50)                0         \n",
      "                                                                 \n",
      " dense_1 (Dense)             (None, 5)                 255       \n",
      "                                                                 \n",
      "=================================================================\n",
      "Total params: 19,639,355\n",
      "Trainable params: 19,638,955\n",
      "Non-trainable params: 400\n",
      "_________________________________________________________________\n"
     ]
    }
   ],
   "source": [
    "LSTM_model = Sequential(name = \"LSTM\")\n",
    "LSTM_model.add(Embedding(len(tokens.word_index) + 1, 500, input_length=500))\n",
    "LSTM_model.add(LSTM(150, return_sequences=True))\n",
    "LSTM_model.add(BatchNormalization())\n",
    "LSTM_model.add(Dropout(0.5))\n",
    "LSTM_model.add(LSTM(50, activation='relu'))\n",
    "LSTM_model.add(BatchNormalization())\n",
    "LSTM_model.add(Dropout(0.5))\n",
    "LSTM_model.add(Dense(5,activation='softmax'))\n",
    "LSTM_model.summary()"
   ]
  },
  {
   "cell_type": "code",
   "execution_count": null,
   "id": "5aa0af2d-c912-4293-9883-95d28724fb54",
   "metadata": {},
   "outputs": [],
   "source": [
    "LSTM_model.compile(loss = \"categorical_crossentropy\",optimizer='adam',metrics=['accuracy'])\n",
    "history = LSTM_model.fit(x_train,y_train,validation_data=(x_test,y_test),batch_size=64,epochs=2,verbose=2)\n",
    "print(LSTM_model.evaluate(x_test,y_test,verbose=1))"
   ]
  },
  {
   "cell_type": "code",
   "execution_count": 35,
   "id": "9666d0a1-469d-4c0f-91dc-e414cdb96f60",
   "metadata": {},
   "outputs": [],
   "source": [
    "metrics = history.history"
   ]
  },
  {
   "cell_type": "code",
   "execution_count": 41,
   "id": "5696867d-4e71-4879-8d82-c3f8b11870e3",
   "metadata": {},
   "outputs": [
    {
     "data": {
      "text/plain": [
       "<Figure size 1000x500 with 0 Axes>"
      ]
     },
     "execution_count": 41,
     "metadata": {},
     "output_type": "execute_result"
    },
    {
     "data": {
      "text/plain": [
       "<Figure size 1000x500 with 0 Axes>"
      ]
     },
     "metadata": {},
     "output_type": "display_data"
    }
   ],
   "source": [
    "plt.figure(figsize=(10,5))"
   ]
  },
  {
   "cell_type": "code",
   "execution_count": 43,
   "id": "e2ad4ff9-f935-4f5c-9de7-6b57ff099a9e",
   "metadata": {},
   "outputs": [
    {
     "data": {
      "text/plain": [
       "Text(0, 0.5, 'Accuracy')"
      ]
     },
     "execution_count": 43,
     "metadata": {},
     "output_type": "execute_result"
    },
    {
     "data": {
      "image/png": "[encoded data removed]",
      "text/plain": [
       "<Figure size 640x480 with 2 Axes>"
      ]
     },
     "metadata": {},
     "output_type": "display_data"
    }
   ],
   "source": [
    "plt.subplot(1,2,1)\n",
    "plt.plot(history.epoch,metrics['loss'],metrics['val_loss'])\n",
    "plt.legend(['loss','val_loss'])\n",
    "plt.xlabel('Epoch')\n",
    "plt.ylabel('Loss')\n",
    "\n",
    "plt.subplot(1,2,2)\n",
    "plt.plot(history.epoch,metrics['accuracy'],metrics['val_accuracy'])\n",
    "plt.legend(['accuracy','val_accuracy'])\n",
    "plt.xlabel('Epoch')\n",
    "plt.ylabel('Accuracy')"
   ]
  },
  {
   "cell_type": "code",
   "execution_count": 44,
   "id": "50178627-0e3f-4caf-a373-1194f7778c1d",
   "metadata": {},
   "outputs": [
    {
     "data": {
      "text/plain": [
       "(5000,)"
      ]
     },
     "execution_count": 44,
     "metadata": {},
     "output_type": "execute_result"
    }
   ],
   "source": [
    "y_true = np.argmax(y_test.values,axis = 1)\n",
    "y_true.shape"
   ]
  },
  {
   "cell_type": "code",
   "execution_count": 46,
   "id": "43c8b2b7-0a88-4321-8867-824d62c4b7c8",
   "metadata": {},
   "outputs": [
    {
     "name": "stdout",
     "output_type": "stream",
     "text": [
      "157/157 [==============================] - 72s 448ms/step\n"
     ]
    },
    {
     "data": {
      "text/plain": [
       "(5000,)"
      ]
     },
     "execution_count": 46,
     "metadata": {},
     "output_type": "execute_result"
    }
   ],
   "source": [
    "y_pred = np.argmax(simaple_rnn.predict(x_test),axis=1)\n",
    "y_pred.shape"
   ]
  },
  {
   "cell_type": "code",
   "execution_count": 49,
   "id": "405896b2-5ec3-45ce-b993-50748dc0490a",
   "metadata": {},
   "outputs": [],
   "source": [
    "confusion_matrix = tf.math.confusion_matrix(y_true,y_pred)"
   ]
  },
  {
   "cell_type": "code",
   "execution_count": 50,
   "id": "87083830-4e23-47a2-86bd-241840e94580",
   "metadata": {},
   "outputs": [
    {
     "data": {
      "text/plain": [
       "<tf.Tensor: shape=(5, 5), dtype=int32, numpy=\n",
       "array([[477, 338, 106,  37,  23],\n",
       "       [201, 427, 245, 121,  26],\n",
       "       [ 69, 260, 355, 239,  56],\n",
       "       [ 27,  75, 282, 419, 223],\n",
       "       [ 14,  51, 106, 352, 471]])>"
      ]
     },
     "execution_count": 50,
     "metadata": {},
     "output_type": "execute_result"
    }
   ],
   "source": [
    "confusion_matrix"
   ]
  },
  {
   "cell_type": "code",
   "execution_count": 52,
   "id": "bcab0c78-8d95-44f0-b62f-b4ec92ca6b16",
   "metadata": {},
   "outputs": [
    {
     "data": {
      "text/plain": [
       "Text(50.722222222222214, 0.5, 'Actual')"
      ]
     },
     "execution_count": 52,
     "metadata": {},
     "output_type": "execute_result"
    },
    {
     "data": {
      "image/png": "[encoded data removed]",
      "text/plain": [
       "<Figure size 640x480 with 2 Axes>"
      ]
     },
     "metadata": {},
     "output_type": "display_data"
    }
   ],
   "source": [
    "sns.heatmap(confusion_matrix,annot=True,fmt = 'g')\n",
    "plt.xlabel(\"Predicted\")\n",
    "plt.ylabel('Actual')"
   ]
  },
  {
   "cell_type": "code",
   "execution_count": 53,
   "id": "9efb1a81-efa3-4411-92e9-43a0810690c8",
   "metadata": {},
   "outputs": [],
   "source": [
    "from sklearn.metrics import classification_report\n",
    "report = classification_report(y_true,y_pred)"
   ]
  },
  {
   "cell_type": "code",
   "execution_count": 55,
   "id": "fedc06a1-5cfd-4bba-a16d-3a27fd33100f",
   "metadata": {},
   "outputs": [
    {
     "name": "stdout",
     "output_type": "stream",
     "text": [
      "              precision    recall  f1-score   support\n",
      "\n",
      "           0       0.61      0.49      0.54       981\n",
      "           1       0.37      0.42      0.39      1020\n",
      "           2       0.32      0.36      0.34       979\n",
      "           3       0.36      0.41      0.38      1026\n",
      "           4       0.59      0.47      0.53       994\n",
      "\n",
      "    accuracy                           0.43      5000\n",
      "   macro avg       0.45      0.43      0.44      5000\n",
      "weighted avg       0.45      0.43      0.44      5000\n",
      "\n"
     ]
    }
   ],
   "source": [
    "print(report)"
   ]
  },
  {
   "cell_type": "code",
   "execution_count": 56,
   "id": "317ea221-5b5a-4df0-a6f4-11814b6eab95",
   "metadata": {},
   "outputs": [],
   "source": [
    "def predict_rating_1_5(text):\n",
    "    text_sequences = np.array(tokens.texts_to_sequences([text]))\n",
    "    testing = pad_sequences(text_sequences,maxlen=500)\n",
    "    y_pred = np.argmax(simaple_rnn.predict(testing),axis = 1)\n",
    "    return y_pred[0]+1"
   ]
  },
  {
   "cell_type": "code",
   "execution_count": 62,
   "id": "fffd23c7-db4e-471e-9130-620cf048fee9",
   "metadata": {},
   "outputs": [
    {
     "name": "stdout",
     "output_type": "stream",
     "text": [
      "1/1 [==============================] - 0s 243ms/step\n",
      "1\n"
     ]
    }
   ],
   "source": [
    "rating1 = 'Worst product'\n",
    "print(predict_rating_1_5(rating1))"
   ]
  },
  {
   "cell_type": "code",
   "execution_count": 63,
   "id": "2f86052f-3c43-43b3-83ea-33195f033c0d",
   "metadata": {},
   "outputs": [
    {
     "name": "stdout",
     "output_type": "stream",
     "text": [
      "1/1 [==============================] - 0s 216ms/step\n",
      "5\n"
     ]
    }
   ],
   "source": [
    "print(predict_rating_1_5('Awesome product,  I will recommend this to other users'))"
   ]
  },
  {
   "cell_type": "code",
   "execution_count": 64,
   "id": "3e9645ad-44fb-445a-ba2f-08838a7c4205",
   "metadata": {},
   "outputs": [
    {
     "name": "stdout",
     "output_type": "stream",
     "text": [
      "1/1 [==============================] - 0s 242ms/step\n",
      "3\n"
     ]
    }
   ],
   "source": [
    "print(predict_rating_1_5('Fast shipping but this product is very cheaply..'))"
   ]
  },
  {
   "cell_type": "code",
   "execution_count": null,
   "id": "3d1b88b7-5d54-418a-8103-c25e2f99b504",
   "metadata": {},
   "outputs": [],
   "source": []
  }
 ],
 "metadata": {
  "kernelspec": {
   "display_name": "Python 3 (ipykernel)",
   "language": "python",
   "name": "python3"
  },
  "language_info": {
   "codemirror_mode": {
    "name": "ipython",
    "version": 3
   },
   "file_extension": ".py",
   "mimetype": "text/x-python",
   "name": "python",
   "nbconvert_exporter": "python",
   "pygments_lexer": "ipython3",
   "version": "3.10.13"
  }
 },
 "nbformat": 4,
 "nbformat_minor": 5
}
